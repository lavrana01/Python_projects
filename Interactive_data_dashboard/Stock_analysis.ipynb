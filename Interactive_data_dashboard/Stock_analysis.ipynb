{
 "cells": [
  {
   "cell_type": "code",
   "execution_count": 62,
   "id": "sexual-alberta",
   "metadata": {},
   "outputs": [],
   "source": [
    "from pandas_datareader import data\n",
    "import datetime\n",
    "from bokeh.plotting import figure, show, output_file J\n",
    "from bokeh.resources import CDN\n",
    "\n",
    "start = datetime.datetime(2015,11,1)\n",
    "end = datetime.datetime(2016,4,10)\n",
    "\n",
    "df = data.DataReader(name='GOOG',data_source='yahoo',start=start,end=end)\n",
    "df\n",
    "\n",
    "\n",
    "def inc_dec(c,o):\n",
    "    if c > o:\n",
    "        value=\"Increase\"\n",
    "    elif c < o:\n",
    "        value=\"Decrease\"\n",
    "    else:\n",
    "        value=\"equal\"\n",
    "    return value\n",
    "\n",
    "df[\"status\"] = [inc_dec(c,o) for c,o in zip(df.Close,df.Open)]\n",
    "df['Middle'] = (df.Open+df.Close)/2\n",
    "df['Height'] = abs(df.Close-df.Open)\n",
    "\n",
    "df\n",
    "\n",
    "\n",
    "p=figure(x_axis_type=\"datetime\", width=1000, height=300,sizing_mode='scale_width')\n",
    "p.title=\"Candlestick chart\"\n",
    "p.grid.grid_line_alpha=0.4\n",
    "\n",
    "hours_12 = 12*60*60*1000\n",
    "p.segment(df.index,df.High,df.index,df.Low, color='black')\n",
    "\n",
    "p.rect(df.index[df.status=='Increase'],df.Middle[df.status=='Increase'],\n",
    "                                         hours_12, df.Height[df.status=='Increase'],fill_color ='#CCFFFF',line_color='black')\n",
    "\n",
    "p.rect(df.index[df.status=='Decrease'],df.Middle[df.status=='Decrease'],\n",
    "                                         hours_12,df.Height[df.status=='Decrease'],fill_color='#FF3333',line_color='black')\n",
    "\n",
    "script1, div1 = components(p)\n",
    "cdn_js = CDN.js_files\n",
    "cdn_css = CDN.css_files\n",
    "\n",
    "\n",
    "#output_file(\"CS.html\")\n",
    "#show(p)"
   ]
  },
  {
   "cell_type": "code",
   "execution_count": 75,
   "id": "worthy-jesus",
   "metadata": {},
   "outputs": [
    {
     "data": {
      "text/plain": [
       "[]"
      ]
     },
     "execution_count": 75,
     "metadata": {},
     "output_type": "execute_result"
    }
   ],
   "source": [
    "cdn_css"
   ]
  }
 ],
 "metadata": {
  "kernelspec": {
   "display_name": "Python 3",
   "language": "python",
   "name": "python3"
  },
  "language_info": {
   "codemirror_mode": {
    "name": "ipython",
    "version": 3
   },
   "file_extension": ".py",
   "mimetype": "text/x-python",
   "name": "python",
   "nbconvert_exporter": "python",
   "pygments_lexer": "ipython3",
   "version": "3.8.8"
  }
 },
 "nbformat": 4,
 "nbformat_minor": 5
}
